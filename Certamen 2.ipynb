{
 "cells": [
  {
   "cell_type": "code",
   "execution_count": 13,
   "metadata": {},
   "outputs": [],
   "source": [
    "library(timsac)\n",
    "library(forecast)"
   ]
  },
  {
   "cell_type": "code",
   "execution_count": 138,
   "metadata": {},
   "outputs": [],
   "source": [
    "datos_B<-c(122.73,122.86,122.67,122.09,122.00,121.23)"
   ]
  },
  {
   "cell_type": "code",
   "execution_count": 139,
   "metadata": {},
   "outputs": [],
   "source": [
    "serie_B <- c(110.94,110.69,110.43,110.56,110.75,110.84,110.46,110.56,110.46,110.05,109.60,109.31,109.31,109.25,109.02,108.54,108.77,109.02,109.44,109.38,109.53,\n",
    "             109.89,110.56,110.56,110.72,111.23,111.48,111.58,111.90,112.19,112.06,111.96,111.68,111.36,111.42,112.00,112.22,112.70,113.15,114.36,114.65,115.06,\n",
    "             115.86,116.40,116.44,116.88,118.07,118.51,119.28,119.79,119.70,119.28,119.66,120.14,120.97,121.13,121.55,121.96,122.26,123.79,124.11,124.14,123.37,\n",
    "             123.02,122.86,123.02,123.11,123.05,123.05,122.83,123.18,122.67)"
   ]
  },
  {
   "cell_type": "code",
   "execution_count": 140,
   "metadata": {},
   "outputs": [],
   "source": [
    "datos_C<-c(2123,2051,1874,1677,1724,1526)"
   ]
  },
  {
   "cell_type": "code",
   "execution_count": 141,
   "metadata": {},
   "outputs": [],
   "source": [
    "serie_C<-c(1361, 1278,1443,1524,1483,1404,1450,1517,1324,1533,1622,1564,1244,1456,1534,1689,1641,1588,1614,1639,1763,1779,1622,1491,1603,1820,1517,1448,1467,1550,1562,\n",
    "          1569,1455,1524,1486,1484,1361,1433,1423,1438,1478,1488,1529,1432,1482,1452,1460,1656,1370,1378,1394,1352,1265,1194,1086,1119,1046,843,961,990,1067,1123,1056,\n",
    "          1091,1304,1248,1364,1407,1421,1491,1538,1308,1380,1520,1466,1554,1408,1405,1512,1495,1556,1569,1630,1548,1769,1705,1561,1524,1583,1528,1368,1358,1507,1381,\n",
    "          1229,1327,1085,1305,1319,1264,1290,1385,1517,1399,1534,1580,1647,1893,1828,1741,1910,1986,2049,2026,2083,2158,2041,2128,2182,2295,2494,2390,2334,2249,2221,\n",
    "          2254,2252,2382,2481,2485,2421,2366,2481,2289,2365,2084,2266,2067)"
   ]
  },
  {
   "cell_type": "code",
   "execution_count": 142,
   "metadata": {},
   "outputs": [],
   "source": [
    "datos_D<-c(120.5,130.7,115.7,119.7,109.7,125.1)"
   ]
  },
  {
   "cell_type": "code",
   "execution_count": 143,
   "metadata": {},
   "outputs": [],
   "source": [
    "serie_D<-c(54.1,59.5,56.5,63.9,57.8,62.0,58.5,65.0,59.6,63.6,60.4,66.3,60.6,66.8,63.2,71.0,66.5,72.0,67.8,75.6,69.2,74.1,70.7,77.8,72.3,78.1,72.4,82.6,72.9,\n",
    "                     79.5,72.6,82.8,76.0,85.1,80.5,89.1,84.8,94.2,89.5,99.3,93.1,103.5,96.4,107.2,101.7,109.5,101.3,112.6,105.5,115.4,108.0,129.9,112.4,123.6,114.9,\n",
    "                     131.0,122.6,131.9)"
   ]
  },
  {
   "cell_type": "code",
   "execution_count": 144,
   "metadata": {},
   "outputs": [],
   "source": [
    "datos_E<- c(164,123,175,175,176,174)"
   ]
  },
  {
   "cell_type": "code",
   "execution_count": 145,
   "metadata": {},
   "outputs": [],
   "source": [
    "serie_E <- c(128,134,133,141,134,142,143,136,108,142,146,149,141,156,151,160,156,160,161,149,118,147,158,146,132,139,139,137,144,146,149,142,101,141,122,\n",
    "                      145,148,137,137,155,152,153,152,153,113,151,159,165,161,160,167,178,167,176,173)"
   ]
  },
  {
   "cell_type": "code",
   "execution_count": 146,
   "metadata": {},
   "outputs": [],
   "source": [
    "datos_F <-c(210,169,217,213,220,217)"
   ]
  },
  {
   "cell_type": "code",
   "execution_count": 147,
   "metadata": {},
   "outputs": [],
   "source": [
    "serie_F<-c(96,97,99,100,102,106,102,80,104,104,107,102,100,107,110,111,114,113,109,91,116,118,123,121,119,125,131,132,135,138,132,106,134,132,136,132,133,\n",
    "                     140,142,146,148,149,147,115,150,152,158,154,155,159,160,163,167,160,162,126,160,161,167,167,164,165,173,179,181,182,175,131,183,181,184,179,181,\n",
    "                     179,187,185,183,177,176,130,176,175,181,176,175,182,182,185,191,191,188,139,189,190,199,193,195,200,205,208,216,216)"
   ]
  },
  {
   "cell_type": "markdown",
   "metadata": {},
   "source": [
    "Determinar modelo para la data B."
   ]
  },
  {
   "cell_type": "code",
   "execution_count": 176,
   "metadata": {},
   "outputs": [
    {
     "data": {
      "text/plain": [
       "Series: serie_B \n",
       "ARIMA(1,2,1) \n",
       "\n",
       "Coefficients:\n",
       "         ar1      ma1\n",
       "      0.2933  -0.8692\n",
       "s.e.  0.1491   0.0838\n",
       "\n",
       "sigma^2 estimated as 0.1493:  log likelihood=-32.11\n",
       "AIC=70.23   AICc=70.59   BIC=76.97"
      ]
     },
     "metadata": {},
     "output_type": "display_data"
    }
   ],
   "source": [
    "arima_B<-auto.arima(serie_B)\n",
    "arima_B"
   ]
  },
  {
   "cell_type": "markdown",
   "metadata": {},
   "source": [
    "Intervalos de confianzas para los parametros del modelo de data B"
   ]
  },
  {
   "cell_type": "code",
   "execution_count": 177,
   "metadata": {},
   "outputs": [
    {
     "data": {
      "text/html": [
       "<table>\n",
       "<caption>A matrix: 2 × 2 of type dbl</caption>\n",
       "<thead>\n",
       "\t<tr><th></th><th scope=col>2.5 %</th><th scope=col>97.5 %</th></tr>\n",
       "</thead>\n",
       "<tbody>\n",
       "\t<tr><th scope=row>ar1</th><td> 0.00119136</td><td> 0.5854751</td></tr>\n",
       "\t<tr><th scope=row>ma1</th><td>-1.03352249</td><td>-0.7049728</td></tr>\n",
       "</tbody>\n",
       "</table>\n"
      ],
      "text/latex": [
       "A matrix: 2 × 2 of type dbl\n",
       "\\begin{tabular}{r|ll}\n",
       "  & 2.5 \\% & 97.5 \\%\\\\\n",
       "\\hline\n",
       "\tar1 &  0.00119136 &  0.5854751\\\\\n",
       "\tma1 & -1.03352249 & -0.7049728\\\\\n",
       "\\end{tabular}\n"
      ],
      "text/markdown": [
       "\n",
       "A matrix: 2 × 2 of type dbl\n",
       "\n",
       "| <!--/--> | 2.5 % | 97.5 % |\n",
       "|---|---|---|\n",
       "| ar1 |  0.00119136 |  0.5854751 |\n",
       "| ma1 | -1.03352249 | -0.7049728 |\n",
       "\n"
      ],
      "text/plain": [
       "    2.5 %       97.5 %    \n",
       "ar1  0.00119136  0.5854751\n",
       "ma1 -1.03352249 -0.7049728"
      ]
     },
     "metadata": {},
     "output_type": "display_data"
    }
   ],
   "source": [
    "confint(arima_B, level = 0.95)"
   ]
  },
  {
   "cell_type": "markdown",
   "metadata": {},
   "source": [
    "Determinar modelo para la data C."
   ]
  },
  {
   "cell_type": "code",
   "execution_count": 88,
   "metadata": {},
   "outputs": [
    {
     "data": {
      "text/plain": [
       "Series: serie_C \n",
       "ARIMA(2,1,2) \n",
       "\n",
       "Coefficients:\n",
       "         ar1      ar2      ma1     ma2\n",
       "      1.1245  -0.4297  -1.4554  0.7452\n",
       "s.e.  0.2073   0.1491   0.1750  0.1204\n",
       "\n",
       "sigma^2 estimated as 12172:  log likelihood=-836.96\n",
       "AIC=1683.91   AICc=1684.37   BIC=1698.51"
      ]
     },
     "metadata": {},
     "output_type": "display_data"
    }
   ],
   "source": [
    "arima_C<-auto.arima(serie_C)\n",
    "arima_C"
   ]
  },
  {
   "cell_type": "markdown",
   "metadata": {},
   "source": [
    "Intervalos de confianzas para los parametros del modelo de data C"
   ]
  },
  {
   "cell_type": "code",
   "execution_count": 89,
   "metadata": {},
   "outputs": [
    {
     "data": {
      "text/html": [
       "<table>\n",
       "<caption>A matrix: 4 × 2 of type dbl</caption>\n",
       "<thead>\n",
       "\t<tr><th></th><th scope=col>2.5 %</th><th scope=col>97.5 %</th></tr>\n",
       "</thead>\n",
       "<tbody>\n",
       "\t<tr><th scope=row>ar1</th><td> 0.7181729</td><td> 1.5308759</td></tr>\n",
       "\t<tr><th scope=row>ar2</th><td>-0.7218441</td><td>-0.1375506</td></tr>\n",
       "\t<tr><th scope=row>ma1</th><td>-1.7983573</td><td>-1.1124499</td></tr>\n",
       "\t<tr><th scope=row>ma2</th><td> 0.5091966</td><td> 0.9812910</td></tr>\n",
       "</tbody>\n",
       "</table>\n"
      ],
      "text/latex": [
       "A matrix: 4 × 2 of type dbl\n",
       "\\begin{tabular}{r|ll}\n",
       "  & 2.5 \\% & 97.5 \\%\\\\\n",
       "\\hline\n",
       "\tar1 &  0.7181729 &  1.5308759\\\\\n",
       "\tar2 & -0.7218441 & -0.1375506\\\\\n",
       "\tma1 & -1.7983573 & -1.1124499\\\\\n",
       "\tma2 &  0.5091966 &  0.9812910\\\\\n",
       "\\end{tabular}\n"
      ],
      "text/markdown": [
       "\n",
       "A matrix: 4 × 2 of type dbl\n",
       "\n",
       "| <!--/--> | 2.5 % | 97.5 % |\n",
       "|---|---|---|\n",
       "| ar1 |  0.7181729 |  1.5308759 |\n",
       "| ar2 | -0.7218441 | -0.1375506 |\n",
       "| ma1 | -1.7983573 | -1.1124499 |\n",
       "| ma2 |  0.5091966 |  0.9812910 |\n",
       "\n"
      ],
      "text/plain": [
       "    2.5 %      97.5 %    \n",
       "ar1  0.7181729  1.5308759\n",
       "ar2 -0.7218441 -0.1375506\n",
       "ma1 -1.7983573 -1.1124499\n",
       "ma2  0.5091966  0.9812910"
      ]
     },
     "metadata": {},
     "output_type": "display_data"
    }
   ],
   "source": [
    "confint(arima_C, level = 0.95)"
   ]
  },
  {
   "cell_type": "markdown",
   "metadata": {},
   "source": [
    "Determinar modelo para la data D."
   ]
  },
  {
   "cell_type": "code",
   "execution_count": 90,
   "metadata": {},
   "outputs": [
    {
     "data": {
      "text/plain": [
       "Series: serie_D \n",
       "ARIMA(1,1,0) with drift \n",
       "\n",
       "Coefficients:\n",
       "          ar1   drift\n",
       "      -0.9302  1.2619\n",
       "s.e.   0.0428  0.1983\n",
       "\n",
       "sigma^2 estimated as 8.508:  log likelihood=-141.88\n",
       "AIC=289.77   AICc=290.22   BIC=295.89"
      ]
     },
     "metadata": {},
     "output_type": "display_data"
    }
   ],
   "source": [
    "arima_D<-auto.arima(serie_D)\n",
    "arima_D"
   ]
  },
  {
   "cell_type": "markdown",
   "metadata": {},
   "source": [
    "Intervalos de confianzas para los parametros del modelo de data D"
   ]
  },
  {
   "cell_type": "code",
   "execution_count": 91,
   "metadata": {},
   "outputs": [
    {
     "data": {
      "text/html": [
       "<table>\n",
       "<caption>A matrix: 2 × 2 of type dbl</caption>\n",
       "<thead>\n",
       "\t<tr><th></th><th scope=col>2.5 %</th><th scope=col>97.5 %</th></tr>\n",
       "</thead>\n",
       "<tbody>\n",
       "\t<tr><th scope=row>ar1</th><td>-1.0142111</td><td>-0.8462574</td></tr>\n",
       "\t<tr><th scope=row>drift</th><td> 0.8732562</td><td> 1.6506408</td></tr>\n",
       "</tbody>\n",
       "</table>\n"
      ],
      "text/latex": [
       "A matrix: 2 × 2 of type dbl\n",
       "\\begin{tabular}{r|ll}\n",
       "  & 2.5 \\% & 97.5 \\%\\\\\n",
       "\\hline\n",
       "\tar1 & -1.0142111 & -0.8462574\\\\\n",
       "\tdrift &  0.8732562 &  1.6506408\\\\\n",
       "\\end{tabular}\n"
      ],
      "text/markdown": [
       "\n",
       "A matrix: 2 × 2 of type dbl\n",
       "\n",
       "| <!--/--> | 2.5 % | 97.5 % |\n",
       "|---|---|---|\n",
       "| ar1 | -1.0142111 | -0.8462574 |\n",
       "| drift |  0.8732562 |  1.6506408 |\n",
       "\n"
      ],
      "text/plain": [
       "      2.5 %      97.5 %    \n",
       "ar1   -1.0142111 -0.8462574\n",
       "drift  0.8732562  1.6506408"
      ]
     },
     "metadata": {},
     "output_type": "display_data"
    }
   ],
   "source": [
    "confint(arima_D, level = 0.95)"
   ]
  },
  {
   "cell_type": "markdown",
   "metadata": {},
   "source": [
    "Determinar modelo para la data E."
   ]
  },
  {
   "cell_type": "code",
   "execution_count": 92,
   "metadata": {},
   "outputs": [
    {
     "data": {
      "text/plain": [
       "Series: serie_E \n",
       "ARIMA(0,1,1) \n",
       "\n",
       "Coefficients:\n",
       "          ma1\n",
       "      -0.6581\n",
       "s.e.   0.1084\n",
       "\n",
       "sigma^2 estimated as 184.5:  log likelihood=-217.28\n",
       "AIC=438.57   AICc=438.8   BIC=442.54"
      ]
     },
     "metadata": {},
     "output_type": "display_data"
    }
   ],
   "source": [
    "arima_E<-auto.arima(serie_E)\n",
    "arima_E"
   ]
  },
  {
   "cell_type": "markdown",
   "metadata": {},
   "source": [
    "Intervalos de confianzas para los parametros del modelo de data E"
   ]
  },
  {
   "cell_type": "code",
   "execution_count": 93,
   "metadata": {},
   "outputs": [
    {
     "data": {
      "text/html": [
       "<table>\n",
       "<caption>A matrix: 1 × 2 of type dbl</caption>\n",
       "<thead>\n",
       "\t<tr><th></th><th scope=col>2.5 %</th><th scope=col>97.5 %</th></tr>\n",
       "</thead>\n",
       "<tbody>\n",
       "\t<tr><th scope=row>ma1</th><td>-0.8705416</td><td>-0.4456843</td></tr>\n",
       "</tbody>\n",
       "</table>\n"
      ],
      "text/latex": [
       "A matrix: 1 × 2 of type dbl\n",
       "\\begin{tabular}{r|ll}\n",
       "  & 2.5 \\% & 97.5 \\%\\\\\n",
       "\\hline\n",
       "\tma1 & -0.8705416 & -0.4456843\\\\\n",
       "\\end{tabular}\n"
      ],
      "text/markdown": [
       "\n",
       "A matrix: 1 × 2 of type dbl\n",
       "\n",
       "| <!--/--> | 2.5 % | 97.5 % |\n",
       "|---|---|---|\n",
       "| ma1 | -0.8705416 | -0.4456843 |\n",
       "\n"
      ],
      "text/plain": [
       "    2.5 %      97.5 %    \n",
       "ma1 -0.8705416 -0.4456843"
      ]
     },
     "metadata": {},
     "output_type": "display_data"
    }
   ],
   "source": [
    "confint(arima_E, level = 0.95)"
   ]
  },
  {
   "cell_type": "markdown",
   "metadata": {},
   "source": [
    "Determinar modelo para la data F."
   ]
  },
  {
   "cell_type": "code",
   "execution_count": 174,
   "metadata": {},
   "outputs": [
    {
     "data": {
      "text/plain": [
       "Series: serie_F \n",
       "ARIMA(0,1,1) with drift \n",
       "\n",
       "Coefficients:\n",
       "          ma1   drift\n",
       "      -0.8662  1.0936\n",
       "s.e.   0.0711  0.1751\n",
       "\n",
       "sigma^2 estimated as 150.5:  log likelihood=-396.2\n",
       "AIC=798.4   AICc=798.65   BIC=806.24"
      ]
     },
     "metadata": {},
     "output_type": "display_data"
    }
   ],
   "source": [
    "arima_F<-auto.arima(serie_F)\n",
    "arima_F"
   ]
  },
  {
   "cell_type": "markdown",
   "metadata": {},
   "source": [
    "Intervalos de confianzas para los parametros del modelo de data F"
   ]
  },
  {
   "cell_type": "code",
   "execution_count": 173,
   "metadata": {},
   "outputs": [
    {
     "data": {
      "text/html": [
       "<table>\n",
       "<caption>A matrix: 2 × 2 of type dbl</caption>\n",
       "<thead>\n",
       "\t<tr><th></th><th scope=col>2.5 %</th><th scope=col>97.5 %</th></tr>\n",
       "</thead>\n",
       "<tbody>\n",
       "\t<tr><th scope=row>ma1</th><td>-1.0055943</td><td>-0.7267624</td></tr>\n",
       "\t<tr><th scope=row>drift</th><td> 0.7503868</td><td> 1.4367220</td></tr>\n",
       "</tbody>\n",
       "</table>\n"
      ],
      "text/latex": [
       "A matrix: 2 × 2 of type dbl\n",
       "\\begin{tabular}{r|ll}\n",
       "  & 2.5 \\% & 97.5 \\%\\\\\n",
       "\\hline\n",
       "\tma1 & -1.0055943 & -0.7267624\\\\\n",
       "\tdrift &  0.7503868 &  1.4367220\\\\\n",
       "\\end{tabular}\n"
      ],
      "text/markdown": [
       "\n",
       "A matrix: 2 × 2 of type dbl\n",
       "\n",
       "| <!--/--> | 2.5 % | 97.5 % |\n",
       "|---|---|---|\n",
       "| ma1 | -1.0055943 | -0.7267624 |\n",
       "| drift |  0.7503868 |  1.4367220 |\n",
       "\n"
      ],
      "text/plain": [
       "      2.5 %      97.5 %    \n",
       "ma1   -1.0055943 -0.7267624\n",
       "drift  0.7503868  1.4367220"
      ]
     },
     "metadata": {},
     "output_type": "display_data"
    }
   ],
   "source": [
    "confint(arima_F, level = 0.95)"
   ]
  },
  {
   "cell_type": "markdown",
   "metadata": {},
   "source": [
    "# Predicciones de los modelos."
   ]
  },
  {
   "cell_type": "markdown",
   "metadata": {},
   "source": [
    "Predicción al modelo de la data B"
   ]
  },
  {
   "cell_type": "code",
   "execution_count": 168,
   "metadata": {},
   "outputs": [
    {
     "data": {
      "text/plain": [
       "   Point Forecast    Lo 80    Hi 80    Lo 95    Hi 95\n",
       "73       122.5102 122.0151 123.0054 121.7530 123.2675\n",
       "74       122.4532 121.5916 123.3148 121.1354 123.7709\n",
       "75       122.4263 121.2289 123.6236 120.5950 124.2575\n",
       "76       122.4082 120.8901 123.9263 120.0864 124.7300\n",
       "77       122.3927 120.5593 124.2261 119.5888 125.1966\n",
       "78       122.3780 120.2294 124.5266 119.0920 125.6640"
      ]
     },
     "metadata": {},
     "output_type": "display_data"
    }
   ],
   "source": [
    "forecast(arima_B,h=6)"
   ]
  },
  {
   "cell_type": "markdown",
   "metadata": {},
   "source": [
    "Error cuadratico medio modelo C"
   ]
  },
  {
   "cell_type": "code",
   "execution_count": 169,
   "metadata": {},
   "outputs": [
    {
     "data": {
      "text/plain": [
       "    Point Forecast    Lo 80    Hi 80    Lo 95    Hi 95\n",
       "139       2065.108 1923.719 2206.496 1848.872 2281.343\n",
       "140       2031.896 1861.775 2202.017 1771.719 2292.073\n",
       "141       1995.362 1804.462 2186.262 1703.405 2287.319\n",
       "142       1968.549 1754.089 2183.010 1640.560 2296.538\n",
       "143       1954.097 1711.380 2196.814 1582.893 2325.300\n",
       "144       1949.365 1675.523 2223.208 1530.560 2368.171"
      ]
     },
     "metadata": {},
     "output_type": "display_data"
    }
   ],
   "source": [
    "forecast(arima_C,h=6)"
   ]
  },
  {
   "cell_type": "markdown",
   "metadata": {},
   "source": [
    "Error cuadratico medio modelo D"
   ]
  },
  {
   "cell_type": "code",
   "execution_count": 170,
   "metadata": {},
   "outputs": [
    {
     "data": {
      "text/plain": [
       "   Point Forecast    Lo 80    Hi 80    Lo 95    Hi 95\n",
       "59       125.6847 121.9466 129.4228 119.9678 131.4016\n",
       "60       133.9022 130.1551 137.6494 128.1714 139.6330\n",
       "61       128.6938 123.5694 133.8183 120.8567 136.5310\n",
       "62       135.9747 130.8273 141.1222 128.1024 143.8471\n",
       "63       131.6377 125.5310 137.7443 122.2983 140.9770\n",
       "64       138.1080 131.9634 144.2526 128.7106 147.5054"
      ]
     },
     "metadata": {},
     "output_type": "display_data"
    }
   ],
   "source": [
    "forecast(arima_D,h=6)"
   ]
  },
  {
   "cell_type": "markdown",
   "metadata": {},
   "source": [
    "Error cuadratico medio modelo E"
   ]
  },
  {
   "cell_type": "code",
   "execution_count": 171,
   "metadata": {},
   "outputs": [
    {
     "data": {
      "text/plain": [
       "   Point Forecast    Lo 80    Hi 80    Lo 95    Hi 95\n",
       "56       170.9843 153.5753 188.3934 144.3595 197.6092\n",
       "57       170.9843 152.5860 189.3827 142.8464 199.1222\n",
       "58       170.9843 151.6472 190.3215 141.4107 200.5580\n",
       "59       170.9843 150.7519 191.2168 140.0415 201.9272\n",
       "60       170.9843 149.8946 192.0741 138.7304 203.2383\n",
       "61       170.9843 149.0708 192.8979 137.4705 204.4982"
      ]
     },
     "metadata": {},
     "output_type": "display_data"
    }
   ],
   "source": [
    "forecast(arima_E,h=6)"
   ]
  },
  {
   "cell_type": "markdown",
   "metadata": {},
   "source": [
    "Error cuadratico medio modelo F"
   ]
  },
  {
   "cell_type": "code",
   "execution_count": 172,
   "metadata": {},
   "outputs": [
    {
     "data": {
      "text/plain": [
       "    Point Forecast    Lo 80    Hi 80    Lo 95    Hi 95\n",
       "103       206.0673 190.3458 221.7888 182.0233 230.1112\n",
       "104       207.1608 191.2992 223.0225 182.9025 231.4191\n",
       "105       208.2544 192.2538 224.2550 183.7836 232.7252\n",
       "106       209.3480 193.2097 225.4862 184.6666 234.0293\n",
       "107       210.4415 194.1667 226.7164 185.5513 235.3317\n",
       "108       211.5351 195.1248 227.9453 186.4377 236.6324"
      ]
     },
     "metadata": {},
     "output_type": "display_data"
    }
   ],
   "source": [
    "forecast(arima_F,h=6)"
   ]
  },
  {
   "cell_type": "markdown",
   "metadata": {},
   "source": [
    "# Errores cuadraticos medios"
   ]
  },
  {
   "cell_type": "code",
   "execution_count": 161,
   "metadata": {},
   "outputs": [],
   "source": [
    "dif_b<-(datos_B-forecast(arima_B,h=6)$mean)^(2)\n",
    "dif_c<-(datos_C-forecast(arima_C,h=6)$mean)^(2)\n",
    "dif_d<-(datos_D-forecast(arima_D,h=6)$mean)^(2)\n",
    "dif_e<-(datos_E-forecast(arima_E,h=6)$mean)^(2)\n",
    "dif_f<-(datos_F-forecast(arima_F,h=6)$mean)^(2)"
   ]
  },
  {
   "cell_type": "markdown",
   "metadata": {},
   "source": [
    "Error cuadratico medio modelo B"
   ]
  },
  {
   "cell_type": "code",
   "execution_count": 162,
   "metadata": {},
   "outputs": [
    {
     "data": {
      "text/html": [
       "0.307760215164071"
      ],
      "text/latex": [
       "0.307760215164071"
      ],
      "text/markdown": [
       "0.307760215164071"
      ],
      "text/plain": [
       "[1] 0.3077602"
      ]
     },
     "metadata": {},
     "output_type": "display_data"
    }
   ],
   "source": [
    "sum(dif_b)/6"
   ]
  },
  {
   "cell_type": "markdown",
   "metadata": {},
   "source": [
    "Error cuadratico medio modelo C"
   ]
  },
  {
   "cell_type": "code",
   "execution_count": 163,
   "metadata": {},
   "outputs": [
    {
     "data": {
      "text/html": [
       "55938.1479192448"
      ],
      "text/latex": [
       "55938.1479192448"
      ],
      "text/markdown": [
       "55938.1479192448"
      ],
      "text/plain": [
       "[1] 55938.15"
      ]
     },
     "metadata": {},
     "output_type": "display_data"
    }
   ],
   "source": [
    "sum(dif_c)/6"
   ]
  },
  {
   "cell_type": "markdown",
   "metadata": {},
   "source": [
    "Error cuadratico medio modelo D"
   ]
  },
  {
   "cell_type": "code",
   "execution_count": 164,
   "metadata": {},
   "outputs": [
    {
     "data": {
      "text/html": [
       "186.885092592631"
      ],
      "text/latex": [
       "186.885092592631"
      ],
      "text/markdown": [
       "186.885092592631"
      ],
      "text/plain": [
       "[1] 186.8851"
      ]
     },
     "metadata": {},
     "output_type": "display_data"
    }
   ],
   "source": [
    "sum(dif_d)/6"
   ]
  },
  {
   "cell_type": "markdown",
   "metadata": {},
   "source": [
    "Error cuadratico medio modelo E"
   ]
  },
  {
   "cell_type": "code",
   "execution_count": 165,
   "metadata": {},
   "outputs": [
    {
     "data": {
      "text/html": [
       "402.963411022695"
      ],
      "text/latex": [
       "402.963411022695"
      ],
      "text/markdown": [
       "402.963411022695"
      ],
      "text/plain": [
       "[1] 402.9634"
      ]
     },
     "metadata": {},
     "output_type": "display_data"
    }
   ],
   "source": [
    "sum(dif_e)/6"
   ]
  },
  {
   "cell_type": "markdown",
   "metadata": {},
   "source": [
    "Error cuadratico medio modelo F"
   ]
  },
  {
   "cell_type": "code",
   "execution_count": 166,
   "metadata": {},
   "outputs": [
    {
     "data": {
      "text/html": [
       "280.461592491325"
      ],
      "text/latex": [
       "280.461592491325"
      ],
      "text/markdown": [
       "280.461592491325"
      ],
      "text/plain": [
       "[1] 280.4616"
      ]
     },
     "metadata": {},
     "output_type": "display_data"
    }
   ],
   "source": [
    "sum(dif_f)/6"
   ]
  },
  {
   "cell_type": "code",
   "execution_count": null,
   "metadata": {},
   "outputs": [],
   "source": []
  }
 ],
 "metadata": {
  "kernelspec": {
   "display_name": "R",
   "language": "R",
   "name": "ir"
  },
  "language_info": {
   "codemirror_mode": "r",
   "file_extension": ".r",
   "mimetype": "text/x-r-source",
   "name": "R",
   "pygments_lexer": "r",
   "version": "3.5.2"
  }
 },
 "nbformat": 4,
 "nbformat_minor": 4
}
